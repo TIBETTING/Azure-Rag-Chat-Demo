{
 "cells": [
  {
   "cell_type": "markdown",
   "id": "758ffd44",
   "metadata": {},
   "source": [
    "## 概要\n",
    " 1. language modelsを使ってみる\n",
    " 2. OutputParsersを使ってみる\n",
    " 3. PromptTemplateを使ってみる\n",
    " 4. LCELを使ってみる\n",
    " 5. 会話履歴を使ってみる\n",
    "\n",
    "### リンク\n",
    " - <a href=\"https://python.langchain.com/v0.2/docs/tutorials/llm_chain/\" target=_blank>Langchain Tutorial</a>\n",
    " - <a href=\"https://pypi.org/project/langchain/#history\" target=_black>Langchain Version</a>"
   ]
  },
  {
   "cell_type": "code",
   "execution_count": 15,
   "id": "a5244ded",
   "metadata": {},
   "outputs": [
    {
     "data": {
      "text/plain": [
       "True"
      ]
     },
     "execution_count": 15,
     "metadata": {},
     "output_type": "execute_result"
    }
   ],
   "source": [
    "import os\n",
    "from langchain_openai import (\n",
    "    AzureOpenAIEmbeddings,\n",
    "    OpenAIEmbeddings,\n",
    "    AzureChatOpenAI,\n",
    "    ChatOpenAI\n",
    ")\n",
    "from langchain_core.messages import (\n",
    "    HumanMessage, \n",
    "    AIMessage,\n",
    "    SystemMessage\n",
    ")\n",
    "from dotenv import load_dotenv\n",
    "load_dotenv('../.env')"
   ]
  },
  {
   "cell_type": "markdown",
   "id": "1fff05d6",
   "metadata": {},
   "source": [
    "### 1. language modelsを使ってみる"
   ]
  },
  {
   "cell_type": "markdown",
   "id": "0109ffb5",
   "metadata": {},
   "source": [
    "#### 1-1. langchainを使わない場合\n",
    "\n",
    " - <a href=\"https://learn.microsoft.com/ja-jp/azure/ai-services/openai/chatgpt-quickstart?tabs=command-line%2Cpython-new&pivots=programming-language-python\" target=_blank>モデルの実行</a>\n",
    " - <a href=\"https://learn.microsoft.com/en-us/azure/ai-services/openai/api-version-deprecation#latest-ga-api-release\" target=_blank>Azure API Versionの確認</a>\n",
    " - <a href=\"https://platform.openai.com/docs/models\" target=_blank>OpenAIのモデルリスト</a>"
   ]
  },
  {
   "cell_type": "code",
   "execution_count": 29,
   "id": "56ccca09",
   "metadata": {},
   "outputs": [],
   "source": [
    "import os\n",
    "from openai import (\n",
    "    OpenAI,\n",
    "    AzureOpenAI\n",
    ")\n",
    "# Azureの場合\n",
    "if os.getenv('AZURE_OPENAI_API_KEY') != \"\":\n",
    "    client = AzureOpenAI(api_version=\"2024-12-01-preview\")\n",
    "    model_name = \"gpt-4o\" # Azureでデプロイしたモデル名\n",
    "# OpenAIの場合\n",
    "elif os.getenv('OPENAI_API_KEY') != \"\":\n",
    "    client = OpenAI()\n",
    "    model_name = \"gpt-4\" # OpenAIのモデル名 \n",
    "else:\n",
    "    print(\"APIKeyの設定を確認してください\")"
   ]
  },
  {
   "cell_type": "code",
   "execution_count": null,
   "id": "997504df",
   "metadata": {},
   "outputs": [
    {
     "name": "stdout",
     "output_type": "stream",
     "text": [
      "はい、Azureの他の多くのAIサービスもCustomer Managed Keys (CMK) をサポートしています。CMKを使用すると、顧客がサービス内で利用される暗号化キーを管理、保持、回転することができるため、データのセキュリティやコンプライアンス要件をさらに強化することが可能です。\n",
      "\n",
      "たとえば、以下のAzure AIサービスがCMKをサポートしています：\n",
      "1. **Azure Cognitive Services**: 一部のCognitive Services（例えば、Azure Text AnalyticsやAzure Translatorなど）は、顧客が管理するキーを使用して機密データを保護する機能を備えています。\n",
      "2. **Azure Machine Learning**: このサービスは、キーを使用してストレージアカウント、コンテナレジストリなどのリソースを暗号化するためのCMKをサポートしています。\n",
      "\n",
      "### CMKの典型的な使用目的：\n",
      "- データ暗号化におけるカスタマイズ性の向上。\n",
      "- コンプライアンス基準や規制要件への対応（例：GDPRやHIPAA）。\n",
      "- キーのライフサイクル管理（ローテーション、監査など）。\n",
      "\n",
      "ただし、具体的なサービスがCMKをサポートしているかどうかと、その対応方法については、該当サービスのドキュメントを参照することをおすすめします。\n",
      "はい、Azureの他の多くのAIサービスもCustomer Managed Keys (CMK) をサポートしています。CMKを使用すると、顧客がサービス内で利用される暗号化キーを管理、保持、回転することができるため、データのセキュリティやコンプライアンス要件をさらに強化することが可能です。\n",
      "\n",
      "たとえば、以下のAzure AIサービスがCMKをサポートしています：\n",
      "1. **Azure Cognitive Services**: 一部のCognitive Services（例えば、Azure Text AnalyticsやAzure Translatorなど）は、顧客が管理するキーを使用して機密データを保護する機能を備えています。\n",
      "2. **Azure Machine Learning**: このサービスは、キーを使用してストレージアカウント、コンテナレジストリなどのリソースを暗号化するためのCMKをサポートしています。\n",
      "\n",
      "### CMKの典型的な使用目的：\n",
      "- データ暗号化におけるカスタマイズ性の向上。\n",
      "- コンプライアンス基準や規制要件への対応（例：GDPRやHIPAA）。\n",
      "- キーのライフサイクル管理（ローテーション、監査など）。\n",
      "\n",
      "ただし、具体的なサービスがCMKをサポートしているかどうかと、その対応方法については、該当サービスのドキュメントを参照することをおすすめします。\n"
     ]
    }
   ],
   "source": [
    "response = client.chat.completions.create(\n",
    "    model=model_name, \n",
    "    # ロールはsystem, user, assistantを指定する。contentはユーザーが入力したテキスト。\n",
    "    messages=[\n",
    "        {\"role\": \"system\", \"content\": \"あなたは役に立つアシスタントだ。\"},\n",
    "        {\"role\": \"user\", \"content\": \"Azure OpenAIはcustomer managed keysをサポートしていますか？\"},\n",
    "        {\"role\": \"assistant\", \"content\": \"はい、customer managed keysはAzure OpenAIでサポートされています。\"},\n",
    "        {\"role\": \"user\", \"content\": \"他のAzure AIサービスもこれをサポートしていますか？\"}\n",
    "    ]\n",
    ")\n",
    "\n",
    "print(response.choices[0].message.content)"
   ]
  },
  {
   "cell_type": "markdown",
   "id": "ad1867ba",
   "metadata": {},
   "source": [
    "#### 1-2. langchainを使う場合\n",
    "\n",
    "<a href=\"https://python.langchain.com/v0.2/docs/tutorials/llm_chain/#using-language-models\" target=_blank>モデルの実行</a>"
   ]
  },
  {
   "cell_type": "code",
   "execution_count": 33,
   "id": "06111855",
   "metadata": {},
   "outputs": [],
   "source": [
    "# LLMの定義\n",
    "model = None\n",
    "if os.getenv('AZURE_OPENAI_API_KEY') != \"\":\n",
    "    model = AzureChatOpenAI(\n",
    "        azure_deployment=\"gpt-4o\",\n",
    "        openai_api_version=\"2024-12-01-preview\",\n",
    "    )\n",
    "else:\n",
    "    print(\"APIKeyの設定を確認してください\")"
   ]
  },
  {
   "cell_type": "code",
   "execution_count": 34,
   "id": "f5a9d315",
   "metadata": {},
   "outputs": [
    {
     "name": "stdout",
     "output_type": "stream",
     "text": [
      "content='はい、いくつかのAzure AIサービスでは、**Customer Managed Keys (CMK)** をサポートしています。CMKを使用すると、Azure Key Vaultで管理されている独自の暗号化キーを用いてデータを暗号化し、データのセキュリティをさらに強化できます。以下は、CMKをサポートしている主なAzure AIサービスの例です：\\n\\n### 1. **Azure Cognitive Services**\\n   - Azure Cognitive Servicesの一部のサービス（例えば、**Azure Form Recognizer** や **Azure Translator**）では、CMKを使用してデータ暗号化をカスタマイズできます。\\n   - サポート状況はサービスごとに異なりますので、特定のサービスのドキュメントを確認することをお勧めします。\\n\\n### 2. **Azure Machine Learning**\\n   - Azure Machine Learningでは、CMKを使用して機械学習ワークスペース内のデータを保護できます。\\n   - モデル、実験データ、ストレージアカウントなどのリソースにCMKを適用できます。\\n\\n### 3. **Azure Synapse Analytics**\\n   - Synapse Analyticsでは、CMKを使用して顧客データの暗号化をカスタマイズできます。これは、AIモデルを活用したデータ分析やインテリジェンス構築で重要です。\\n\\n### 4. **Azure Data Services**\\n   - Azure AIサービスと連携することが多い **Azure Blob Storage** や **Azure SQL Database** などのデータサービスもCMKをサポートしており、AIソリューション全体のセキュリティを強化することができます。\\n\\n---\\n\\nCMKをサポートしているかどうかは、サービスの特定の機能やコンフィギュレーションに依存する場合がありますので、Azureの公式ドキュメントや最新情報を参照することをお勧めします。\\n\\n' response_metadata={'token_usage': {'completion_tokens': 443, 'prompt_tokens': 74, 'total_tokens': 517, 'completion_tokens_details': {'accepted_prediction_tokens': 0, 'audio_tokens': 0, 'reasoning_tokens': 0, 'rejected_prediction_tokens': 0}, 'prompt_tokens_details': {'audio_tokens': 0, 'cached_tokens': 0}}, 'model_name': 'gpt-4o-2024-11-20', 'system_fingerprint': 'fp_ee1d74bde0', 'prompt_filter_results': [{'prompt_index': 0, 'content_filter_results': {'hate': {'filtered': False, 'severity': 'safe'}, 'jailbreak': {'detected': False, 'filtered': False}, 'self_harm': {'filtered': False, 'severity': 'safe'}, 'sexual': {'filtered': False, 'severity': 'safe'}, 'violence': {'filtered': False, 'severity': 'safe'}}}], 'finish_reason': 'stop', 'logprobs': None, 'content_filter_results': {'hate': {'filtered': False, 'severity': 'safe'}, 'protected_material_code': {'detected': False, 'filtered': False}, 'protected_material_text': {'detected': False, 'filtered': False}, 'self_harm': {'filtered': False, 'severity': 'safe'}, 'sexual': {'filtered': False, 'severity': 'safe'}, 'violence': {'filtered': False, 'severity': 'safe'}}} id='run-7a47c563-ce35-4fc4-a069-56687bb2aa92-0' usage_metadata={'input_tokens': 74, 'output_tokens': 443, 'total_tokens': 517}\n"
     ]
    }
   ],
   "source": [
    "# Langchainでは、SystemMessage, HumanMessage, AIMessageのメッセージタイプを使用する。\n",
    "\n",
    "messages = [\n",
    "    SystemMessage(content=\"あなたは役に立つアシスタントだ。\"),\n",
    "    HumanMessage(content=\"Azure OpenAIはcustomer managed keysをサポートしていますか？\"),\n",
    "    AIMessage(content=\"はい、customer managed keysはAzure OpenAIでサポートされています。\"),\n",
    "    HumanMessage(content=\"他のAzure AIサービスもこれをサポートしていますか？\")\n",
    "]\n",
    "\n",
    "result = model.invoke(messages)\n",
    "print(result)"
   ]
  },
  {
   "cell_type": "markdown",
   "id": "292c2938",
   "metadata": {},
   "source": [
    "### 2. OutputParsersを使ってみる\n",
    "AIの回答のフォーマットを指定して取得する"
   ]
  },
  {
   "cell_type": "code",
   "execution_count": 36,
   "id": "a7605bf7",
   "metadata": {},
   "outputs": [],
   "source": [
    "from langchain_core.output_parsers import StrOutputParser"
   ]
  },
  {
   "cell_type": "code",
   "execution_count": 37,
   "id": "30ab623e",
   "metadata": {},
   "outputs": [
    {
     "data": {
      "text/plain": [
       "'はい、いくつかのAzure AIサービスでは、**Customer Managed Keys (CMK)** をサポートしています。CMKを使用すると、Azure Key Vaultで管理されている独自の暗号化キーを用いてデータを暗号化し、データのセキュリティをさらに強化できます。以下は、CMKをサポートしている主なAzure AIサービスの例です：\\n\\n### 1. **Azure Cognitive Services**\\n   - Azure Cognitive Servicesの一部のサービス（例えば、**Azure Form Recognizer** や **Azure Translator**）では、CMKを使用してデータ暗号化をカスタマイズできます。\\n   - サポート状況はサービスごとに異なりますので、特定のサービスのドキュメントを確認することをお勧めします。\\n\\n### 2. **Azure Machine Learning**\\n   - Azure Machine Learningでは、CMKを使用して機械学習ワークスペース内のデータを保護できます。\\n   - モデル、実験データ、ストレージアカウントなどのリソースにCMKを適用できます。\\n\\n### 3. **Azure Synapse Analytics**\\n   - Synapse Analyticsでは、CMKを使用して顧客データの暗号化をカスタマイズできます。これは、AIモデルを活用したデータ分析やインテリジェンス構築で重要です。\\n\\n### 4. **Azure Data Services**\\n   - Azure AIサービスと連携することが多い **Azure Blob Storage** や **Azure SQL Database** などのデータサービスもCMKをサポートしており、AIソリューション全体のセキュリティを強化することができます。\\n\\n---\\n\\nCMKをサポートしているかどうかは、サービスの特定の機能やコンフィギュレーションに依存する場合がありますので、Azureの公式ドキュメントや最新情報を参照することをお勧めします。\\n\\n'"
      ]
     },
     "execution_count": 37,
     "metadata": {},
     "output_type": "execute_result"
    }
   ],
   "source": [
    "parser = StrOutputParser()\n",
    "parser.invoke(result)"
   ]
  },
  {
   "cell_type": "code",
   "execution_count": 38,
   "id": "8fde7a1d",
   "metadata": {},
   "outputs": [
    {
     "name": "stdout",
     "output_type": "stream",
     "text": [
      "はい、いくつかのAzure AIサービスでは、**Customer Managed Keys (CMK)** をサポートしています。CMKを使用すると、Azure Key Vaultで管理されている独自の暗号化キーを用いてデータを暗号化し、データのセキュリティをさらに強化できます。以下は、CMKをサポートしている主なAzure AIサービスの例です：\n",
      "\n",
      "### 1. **Azure Cognitive Services**\n",
      "   - Azure Cognitive Servicesの一部のサービス（例えば、**Azure Form Recognizer** や **Azure Translator**）では、CMKを使用してデータ暗号化をカスタマイズできます。\n",
      "   - サポート状況はサービスごとに異なりますので、特定のサービスのドキュメントを確認することをお勧めします。\n",
      "\n",
      "### 2. **Azure Machine Learning**\n",
      "   - Azure Machine Learningでは、CMKを使用して機械学習ワークスペース内のデータを保護できます。\n",
      "   - モデル、実験データ、ストレージアカウントなどのリソースにCMKを適用できます。\n",
      "\n",
      "### 3. **Azure Synapse Analytics**\n",
      "   - Synapse Analyticsでは、CMKを使用して顧客データの暗号化をカスタマイズできます。これは、AIモデルを活用したデータ分析やインテリジェンス構築で重要です。\n",
      "\n",
      "### 4. **Azure Data Services**\n",
      "   - Azure AIサービスと連携することが多い **Azure Blob Storage** や **Azure SQL Database** などのデータサービスもCMKをサポートしており、AIソリューション全体のセキュリティを強化することができます。\n",
      "\n",
      "---\n",
      "\n",
      "CMKをサポートしているかどうかは、サービスの特定の機能やコンフィギュレーションに依存する場合がありますので、Azureの公式ドキュメントや最新情報を参照することをお勧めします。\n",
      "\n",
      "\n"
     ]
    }
   ],
   "source": [
    "# contentからの取得\n",
    "print(result.content)"
   ]
  },
  {
   "cell_type": "code",
   "execution_count": 39,
   "id": "98f722d4",
   "metadata": {},
   "outputs": [
    {
     "name": "stdout",
     "output_type": "stream",
     "text": [
      "{'content': 'はい、いくつかのAzure AIサービスでは、**Customer Managed Keys (CMK)** をサポートしています。CMKを使用すると、Azure Key Vaultで管理されている独自の暗号化キーを用いてデータを暗号化し、データのセキュリティをさらに強化できます。以下は、CMKをサポートしている主なAzure AIサービスの例です：\\n\\n### 1. **Azure Cognitive Services**\\n   - Azure Cognitive Servicesの一部のサービス（例えば、**Azure Form Recognizer** や **Azure Translator**）では、CMKを使用してデータ暗号化をカスタマイズできます。\\n   - サポート状況はサービスごとに異なりますので、特定のサービスのドキュメントを確認することをお勧めします。\\n\\n### 2. **Azure Machine Learning**\\n   - Azure Machine Learningでは、CMKを使用して機械学習ワークスペース内のデータを保護できます。\\n   - モデル、実験データ、ストレージアカウントなどのリソースにCMKを適用できます。\\n\\n### 3. **Azure Synapse Analytics**\\n   - Synapse Analyticsでは、CMKを使用して顧客データの暗号化をカスタマイズできます。これは、AIモデルを活用したデータ分析やインテリジェンス構築で重要です。\\n\\n### 4. **Azure Data Services**\\n   - Azure AIサービスと連携することが多い **Azure Blob Storage** や **Azure SQL Database** などのデータサービスもCMKをサポートしており、AIソリューション全体のセキュリティを強化することができます。\\n\\n---\\n\\nCMKをサポートしているかどうかは、サービスの特定の機能やコンフィギュレーションに依存する場合がありますので、Azureの公式ドキュメントや最新情報を参照することをお勧めします。\\n\\n', 'additional_kwargs': {}, 'response_metadata': {'token_usage': {'completion_tokens': 443, 'prompt_tokens': 74, 'total_tokens': 517, 'completion_tokens_details': {'accepted_prediction_tokens': 0, 'audio_tokens': 0, 'reasoning_tokens': 0, 'rejected_prediction_tokens': 0}, 'prompt_tokens_details': {'audio_tokens': 0, 'cached_tokens': 0}}, 'model_name': 'gpt-4o-2024-11-20', 'system_fingerprint': 'fp_ee1d74bde0', 'prompt_filter_results': [{'prompt_index': 0, 'content_filter_results': {'hate': {'filtered': False, 'severity': 'safe'}, 'jailbreak': {'detected': False, 'filtered': False}, 'self_harm': {'filtered': False, 'severity': 'safe'}, 'sexual': {'filtered': False, 'severity': 'safe'}, 'violence': {'filtered': False, 'severity': 'safe'}}}], 'finish_reason': 'stop', 'logprobs': None, 'content_filter_results': {'hate': {'filtered': False, 'severity': 'safe'}, 'protected_material_code': {'detected': False, 'filtered': False}, 'protected_material_text': {'detected': False, 'filtered': False}, 'self_harm': {'filtered': False, 'severity': 'safe'}, 'sexual': {'filtered': False, 'severity': 'safe'}, 'violence': {'filtered': False, 'severity': 'safe'}}}, 'type': 'ai', 'name': None, 'id': 'run-7a47c563-ce35-4fc4-a069-56687bb2aa92-0', 'example': False, 'tool_calls': [], 'invalid_tool_calls': [], 'usage_metadata': {'input_tokens': 74, 'output_tokens': 443, 'total_tokens': 517}}\n"
     ]
    }
   ],
   "source": [
    "# resultの構造を表示\n",
    "print(result.dict())"
   ]
  },
  {
   "cell_type": "markdown",
   "id": "f444f0c0",
   "metadata": {},
   "source": [
    "### 3. PromptTemplateを使ってみる"
   ]
  },
  {
   "cell_type": "markdown",
   "id": "c4031119",
   "metadata": {},
   "source": [
    "#### 3-1. PromptTemplateを使わない場合"
   ]
  },
  {
   "cell_type": "code",
   "execution_count": 43,
   "id": "bbe75334",
   "metadata": {},
   "outputs": [
    {
     "data": {
      "text/plain": [
       "AIMessage(content='Ciao', response_metadata={'token_usage': {'completion_tokens': 3, 'prompt_tokens': 22, 'total_tokens': 25, 'completion_tokens_details': {'accepted_prediction_tokens': 0, 'audio_tokens': 0, 'reasoning_tokens': 0, 'rejected_prediction_tokens': 0}, 'prompt_tokens_details': {'audio_tokens': 0, 'cached_tokens': 0}}, 'model_name': 'gpt-4o-2024-11-20', 'system_fingerprint': 'fp_ee1d74bde0', 'prompt_filter_results': [{'prompt_index': 0, 'content_filter_results': {'hate': {'filtered': False, 'severity': 'safe'}, 'jailbreak': {'detected': False, 'filtered': False}, 'self_harm': {'filtered': False, 'severity': 'safe'}, 'sexual': {'filtered': False, 'severity': 'safe'}, 'violence': {'filtered': False, 'severity': 'safe'}}}], 'finish_reason': 'stop', 'logprobs': None, 'content_filter_results': {'hate': {'filtered': False, 'severity': 'safe'}, 'protected_material_code': {'detected': False, 'filtered': False}, 'protected_material_text': {'detected': False, 'filtered': False}, 'self_harm': {'filtered': False, 'severity': 'safe'}, 'sexual': {'filtered': False, 'severity': 'safe'}, 'violence': {'filtered': False, 'severity': 'safe'}}}, id='run-55ab475e-4583-4b55-a6c4-435221f3e3d8-0', usage_metadata={'input_tokens': 22, 'output_tokens': 3, 'total_tokens': 25})"
      ]
     },
     "execution_count": 43,
     "metadata": {},
     "output_type": "execute_result"
    }
   ],
   "source": [
    "messages = [\n",
    "    SystemMessage(content=\"イタリアの言語に翻訳してください\"),\n",
    "    HumanMessage(content=\"こんにちは\"),\n",
    "]\n",
    "model.invoke(messages)"
   ]
  },
  {
   "cell_type": "code",
   "execution_count": 45,
   "id": "2f5cc75d",
   "metadata": {},
   "outputs": [
    {
     "data": {
      "text/plain": [
       "AIMessage(content='Hello!', response_metadata={'token_usage': {'completion_tokens': 3, 'prompt_tokens': 21, 'total_tokens': 24, 'completion_tokens_details': {'accepted_prediction_tokens': 0, 'audio_tokens': 0, 'reasoning_tokens': 0, 'rejected_prediction_tokens': 0}, 'prompt_tokens_details': {'audio_tokens': 0, 'cached_tokens': 0}}, 'model_name': 'gpt-4o-2024-11-20', 'system_fingerprint': 'fp_ee1d74bde0', 'prompt_filter_results': [{'prompt_index': 0, 'content_filter_results': {'hate': {'filtered': False, 'severity': 'safe'}, 'jailbreak': {'detected': False, 'filtered': False}, 'self_harm': {'filtered': False, 'severity': 'safe'}, 'sexual': {'filtered': False, 'severity': 'safe'}, 'violence': {'filtered': False, 'severity': 'safe'}}}], 'finish_reason': 'stop', 'logprobs': None, 'content_filter_results': {'hate': {'filtered': False, 'severity': 'safe'}, 'protected_material_code': {'detected': False, 'filtered': False}, 'protected_material_text': {'detected': False, 'filtered': False}, 'self_harm': {'filtered': False, 'severity': 'safe'}, 'sexual': {'filtered': False, 'severity': 'safe'}, 'violence': {'filtered': False, 'severity': 'safe'}}}, id='run-c085bcee-b2f2-4aee-a1d1-4dd1a2f8db56-0', usage_metadata={'input_tokens': 21, 'output_tokens': 3, 'total_tokens': 24})"
      ]
     },
     "execution_count": 45,
     "metadata": {},
     "output_type": "execute_result"
    }
   ],
   "source": [
    "messages = [\n",
    "    SystemMessage(content=\"英語の言語に翻訳してください\"),\n",
    "    HumanMessage(content=\"こんにちは\"),\n",
    "]\n",
    "model.invoke(messages)"
   ]
  },
  {
   "cell_type": "markdown",
   "id": "09e7c67a",
   "metadata": {},
   "source": [
    "#### 3-2. PromptTemplateを使う場合"
   ]
  },
  {
   "cell_type": "code",
   "execution_count": 51,
   "id": "ee1d8da5",
   "metadata": {},
   "outputs": [],
   "source": [
    "from langchain_core.prompts import ChatPromptTemplate"
   ]
  },
  {
   "cell_type": "code",
   "execution_count": 58,
   "id": "e19d883a",
   "metadata": {},
   "outputs": [],
   "source": [
    "# プロンプトの定義\n",
    "prompt_template = ChatPromptTemplate.from_messages(\n",
    "    [\n",
    "        (\"system\", \"{language}の言語に翻訳してください\"),\n",
    "        (\"user\", \"{text}\"),\n",
    "    ]\n",
    ")"
   ]
  },
  {
   "cell_type": "code",
   "execution_count": 59,
   "id": "80ff5c46",
   "metadata": {},
   "outputs": [
    {
     "data": {
      "text/plain": [
       "ChatPromptValue(messages=[SystemMessage(content='イタリアの言語に翻訳してください'), HumanMessage(content='こんにちは')])"
      ]
     },
     "execution_count": 59,
     "metadata": {},
     "output_type": "execute_result"
    }
   ],
   "source": [
    "# 辞書型で{}に入れる値を指定\n",
    "prompt = prompt_template.invoke({\"language\": \"イタリア\", \"text\": \"こんにちは\"})\n",
    "prompt"
   ]
  },
  {
   "cell_type": "code",
   "execution_count": 60,
   "id": "df5dc61f",
   "metadata": {},
   "outputs": [
    {
     "data": {
      "text/plain": [
       "[SystemMessage(content='イタリアの言語に翻訳してください'), HumanMessage(content='こんにちは')]"
      ]
     },
     "execution_count": 60,
     "metadata": {},
     "output_type": "execute_result"
    }
   ],
   "source": [
    "# メッセージだけを抜粋\n",
    "prompt.to_messages()"
   ]
  },
  {
   "cell_type": "code",
   "execution_count": 61,
   "id": "11ee30af",
   "metadata": {},
   "outputs": [
    {
     "name": "stdout",
     "output_type": "stream",
     "text": [
      "Ciao\n"
     ]
    }
   ],
   "source": [
    "# Promptを使ってみる\n",
    "result = model.invoke(prompt)\n",
    "print(result.content)"
   ]
  },
  {
   "cell_type": "code",
   "execution_count": 63,
   "id": "47a2a8a9",
   "metadata": {},
   "outputs": [
    {
     "name": "stdout",
     "output_type": "stream",
     "text": [
      "['Ciao', 'Bonjour', 'こんにちは！中国語では「こんにちは」は以下のように翻訳されます：\\n\\n**你好 (Nǐ hǎo)**']\n"
     ]
    }
   ],
   "source": [
    "# {luanguage}に英語、イタリア語、フランス語、中国語を入れて、順に実行し、実行結果のcontentをリストに格納して表示する\n",
    "languages = [\"イタリア\", \"フランス\", \"中国\"]\n",
    "results = []\n",
    "for language in languages:\n",
    "    prompt = prompt_template.invoke({\"language\": language, \"text\": \"こんにちは\"})\n",
    "    result = model.invoke(prompt)\n",
    "    results.append(result.content)\n",
    "\n",
    "print(results)"
   ]
  },
  {
   "cell_type": "markdown",
   "id": "4f3ad78d",
   "metadata": {},
   "source": [
    "### 4. LCELを使ってみる\n",
    " 今まで実行してきたように、Promtを設定 > モデルから回答取得 > 出力を成形と処理が続く  \n",
    " これをLCELと表記で、続けて記述することができます。  \n",
    " Chainという考え方になります。"
   ]
  },
  {
   "cell_type": "markdown",
   "id": "73970eb4",
   "metadata": {},
   "source": [
    "#### 4-1. LCEL(Chain)を使わない場合"
   ]
  },
  {
   "cell_type": "code",
   "execution_count": 65,
   "id": "63a53d47",
   "metadata": {},
   "outputs": [
    {
     "name": "stdout",
     "output_type": "stream",
     "text": [
      "Ciao! 😊\n"
     ]
    }
   ],
   "source": [
    "# PromptTemplateでPromptを作成\n",
    "prompt = prompt_template.invoke({\"language\": \"italian\", \"text\": \"こんにちは\"})\n",
    "# modelにpromptを渡して結果を取得\n",
    "response = model.invoke(prompt)\n",
    "# 結果を文字列に変換\n",
    "result = parser.invoke(response)\n",
    "print(result)"
   ]
  },
  {
   "cell_type": "markdown",
   "id": "c93371de",
   "metadata": {},
   "source": [
    "#### 4-2.LCEL(Chain)を使った場合"
   ]
  },
  {
   "cell_type": "code",
   "execution_count": 67,
   "id": "d8c4d8f2",
   "metadata": {},
   "outputs": [],
   "source": [
    "# | を使って、PrompteTemplate, ChatOpenAI, StrOutputPerserをつなげる\n",
    "chain = prompt_template | model | parser"
   ]
  },
  {
   "cell_type": "code",
   "execution_count": 68,
   "id": "1fa023dd",
   "metadata": {},
   "outputs": [
    {
     "data": {
      "text/plain": [
       "'Ciao! 😊'"
      ]
     },
     "execution_count": 68,
     "metadata": {},
     "output_type": "execute_result"
    }
   ],
   "source": [
    "# 後はChainを使って、結果を取得\n",
    "chain.invoke({\"language\": \"italian\", \"text\": \"こんにちは\"})"
   ]
  },
  {
   "cell_type": "markdown",
   "id": "248914c8",
   "metadata": {},
   "source": [
    "### 5. 会話履歴を使ってみる\n",
    "チャットでは会話履歴が大事になってきます。  \n",
    "会話履歴の取り扱いについて習得していきましょう"
   ]
  },
  {
   "cell_type": "markdown",
   "id": "c02944b9",
   "metadata": {},
   "source": [
    "#### 5-1. 会話履歴の必要性\n",
    "なぜ、会話の履歴が必要か確認していきます"
   ]
  },
  {
   "cell_type": "code",
   "execution_count": 69,
   "id": "07d4a6d6",
   "metadata": {},
   "outputs": [
    {
     "data": {
      "text/plain": [
       "AIMessage(content='こんにちわ、もものきさん！😊どうぞよろしくお願いします。今日はどんなお話をしましょうか？質問や相談など、何でもお気軽にどうぞ！', response_metadata={'token_usage': {'completion_tokens': 39, 'prompt_tokens': 15, 'total_tokens': 54, 'completion_tokens_details': {'accepted_prediction_tokens': 0, 'audio_tokens': 0, 'reasoning_tokens': 0, 'rejected_prediction_tokens': 0}, 'prompt_tokens_details': {'audio_tokens': 0, 'cached_tokens': 0}}, 'model_name': 'gpt-4o-2024-11-20', 'system_fingerprint': 'fp_ee1d74bde0', 'prompt_filter_results': [{'prompt_index': 0, 'content_filter_results': {'hate': {'filtered': False, 'severity': 'safe'}, 'jailbreak': {'detected': False, 'filtered': False}, 'self_harm': {'filtered': False, 'severity': 'safe'}, 'sexual': {'filtered': False, 'severity': 'safe'}, 'violence': {'filtered': False, 'severity': 'safe'}}}], 'finish_reason': 'stop', 'logprobs': None, 'content_filter_results': {'hate': {'filtered': False, 'severity': 'safe'}, 'protected_material_code': {'detected': False, 'filtered': False}, 'protected_material_text': {'detected': False, 'filtered': False}, 'self_harm': {'filtered': False, 'severity': 'safe'}, 'sexual': {'filtered': False, 'severity': 'safe'}, 'violence': {'filtered': False, 'severity': 'safe'}}}, id='run-4a9f2d63-cb84-4b2c-a9fb-bb78f39f08f5-0', usage_metadata={'input_tokens': 15, 'output_tokens': 39, 'total_tokens': 54})"
      ]
     },
     "execution_count": 69,
     "metadata": {},
     "output_type": "execute_result"
    }
   ],
   "source": [
    "# 一つ目のメッセージを入れてみます\n",
    "model.invoke([HumanMessage(content=\"こんにちわ、もものきです\")])"
   ]
  },
  {
   "cell_type": "code",
   "execution_count": 71,
   "id": "cf989836",
   "metadata": {},
   "outputs": [
    {
     "data": {
      "text/plain": [
       "AIMessage(content='申し訳ありませんが、私の記憶はセッションを超えて保持されません。そのため、あなたの名前を覚えていることはできません。ここで教えていただければ、会話の間だけその名前を使うことができます！', response_metadata={'token_usage': {'completion_tokens': 57, 'prompt_tokens': 15, 'total_tokens': 72, 'completion_tokens_details': {'accepted_prediction_tokens': 0, 'audio_tokens': 0, 'reasoning_tokens': 0, 'rejected_prediction_tokens': 0}, 'prompt_tokens_details': {'audio_tokens': 0, 'cached_tokens': 0}}, 'model_name': 'gpt-4o-2024-11-20', 'system_fingerprint': 'fp_ee1d74bde0', 'prompt_filter_results': [{'prompt_index': 0, 'content_filter_results': {'hate': {'filtered': False, 'severity': 'safe'}, 'jailbreak': {'detected': False, 'filtered': False}, 'self_harm': {'filtered': False, 'severity': 'safe'}, 'sexual': {'filtered': False, 'severity': 'safe'}, 'violence': {'filtered': False, 'severity': 'safe'}}}], 'finish_reason': 'stop', 'logprobs': None, 'content_filter_results': {'hate': {'filtered': False, 'severity': 'safe'}, 'protected_material_code': {'detected': False, 'filtered': False}, 'protected_material_text': {'detected': False, 'filtered': False}, 'self_harm': {'filtered': False, 'severity': 'safe'}, 'sexual': {'filtered': False, 'severity': 'safe'}, 'violence': {'filtered': False, 'severity': 'safe'}}}, id='run-94bc3ffe-0f0a-4c39-a2c4-71289f4e2ba3-0', usage_metadata={'input_tokens': 15, 'output_tokens': 57, 'total_tokens': 72})"
      ]
     },
     "execution_count": 71,
     "metadata": {},
     "output_type": "execute_result"
    }
   ],
   "source": [
    "# ２つめのメッセージをいれてみます\n",
    "model.invoke([HumanMessage(content=\"私の名前を覚えていますか\")])"
   ]
  },
  {
   "cell_type": "markdown",
   "id": "89059214",
   "metadata": {},
   "source": [
    "このように、1つずつメッセージを入れても、modelは適切な回答をしてくれません。  \n",
    "過去の会話も続けて、modelに入れるとチャットのようなつづけた会話ができます"
   ]
  },
  {
   "cell_type": "code",
   "execution_count": 72,
   "id": "572a5f02",
   "metadata": {},
   "outputs": [
    {
     "data": {
      "text/plain": [
       "AIMessage(content='もちろんです！あなたの名前は「もものき」さんですね。😊 何かお手伝いできることがあれば、どうぞお気軽にお話しください！', response_metadata={'token_usage': {'completion_tokens': 41, 'prompt_tokens': 47, 'total_tokens': 88, 'completion_tokens_details': {'accepted_prediction_tokens': 0, 'audio_tokens': 0, 'reasoning_tokens': 0, 'rejected_prediction_tokens': 0}, 'prompt_tokens_details': {'audio_tokens': 0, 'cached_tokens': 0}}, 'model_name': 'gpt-4o-2024-11-20', 'system_fingerprint': 'fp_ee1d74bde0', 'prompt_filter_results': [{'prompt_index': 0, 'content_filter_results': {'hate': {'filtered': False, 'severity': 'safe'}, 'jailbreak': {'detected': False, 'filtered': False}, 'self_harm': {'filtered': False, 'severity': 'safe'}, 'sexual': {'filtered': False, 'severity': 'safe'}, 'violence': {'filtered': False, 'severity': 'safe'}}}], 'finish_reason': 'stop', 'logprobs': None, 'content_filter_results': {'hate': {'filtered': False, 'severity': 'safe'}, 'protected_material_code': {'detected': False, 'filtered': False}, 'protected_material_text': {'detected': False, 'filtered': False}, 'self_harm': {'filtered': False, 'severity': 'safe'}, 'sexual': {'filtered': False, 'severity': 'safe'}, 'violence': {'filtered': False, 'severity': 'safe'}}}, id='run-cba8b4c0-0e1e-44cb-b7b1-7b17e63352f2-0', usage_metadata={'input_tokens': 47, 'output_tokens': 41, 'total_tokens': 88})"
      ]
     },
     "execution_count": 72,
     "metadata": {},
     "output_type": "execute_result"
    }
   ],
   "source": [
    "model.invoke(\n",
    "    [\n",
    "        HumanMessage(content=\"こんにちわ、もものきです\"),\n",
    "        AIMessage(content='こんにちわ、もものきさん、ご用件はありますか？'),\n",
    "        HumanMessage(content=\"私の名前を覚えていますか？\"),\n",
    "    ]\n",
    ")"
   ]
  },
  {
   "cell_type": "markdown",
   "id": "17317f1f",
   "metadata": {},
   "source": [
    "#### 5-2. 会話履歴 その1(<a href=\"https://python.langchain.com/v0.2/docs/tutorials/chatbot/#message-history\" target=_blank>v0.2 公式ドキュメント</a>)"
   ]
  },
  {
   "cell_type": "code",
   "execution_count": 73,
   "id": "e6ac9058",
   "metadata": {},
   "outputs": [
    {
     "name": "stdout",
     "output_type": "stream",
     "text": [
      "Requirement already satisfied: langchain_community in /usr/local/lib/python3.10/site-packages (0.2.12)\n",
      "Requirement already satisfied: aiohttp<4.0.0,>=3.8.3 in /usr/local/lib/python3.10/site-packages (from langchain_community) (3.10.5)\n",
      "Requirement already satisfied: SQLAlchemy<3,>=1.4 in /usr/local/lib/python3.10/site-packages (from langchain_community) (2.0.34)\n",
      "Requirement already satisfied: langchain<0.3.0,>=0.2.13 in /usr/local/lib/python3.10/site-packages (from langchain_community) (0.2.14)\n",
      "Requirement already satisfied: PyYAML>=5.3 in /usr/local/lib/python3.10/site-packages (from langchain_community) (6.0.2)\n",
      "Requirement already satisfied: langsmith<0.2.0,>=0.1.0 in /usr/local/lib/python3.10/site-packages (from langchain_community) (0.1.117)\n",
      "Requirement already satisfied: langchain-core<0.3.0,>=0.2.30 in /usr/local/lib/python3.10/site-packages (from langchain_community) (0.2.32)\n",
      "Requirement already satisfied: tenacity!=8.4.0,<9.0.0,>=8.1.0 in /usr/local/lib/python3.10/site-packages (from langchain_community) (8.5.0)\n",
      "Requirement already satisfied: numpy<2,>=1 in /usr/local/lib/python3.10/site-packages (from langchain_community) (1.26.4)\n",
      "Requirement already satisfied: dataclasses-json<0.7,>=0.5.7 in /usr/local/lib/python3.10/site-packages (from langchain_community) (0.6.7)\n",
      "Requirement already satisfied: requests<3,>=2 in /usr/local/lib/python3.10/site-packages (from langchain_community) (2.32.3)\n",
      "Requirement already satisfied: attrs>=17.3.0 in /usr/local/lib/python3.10/site-packages (from aiohttp<4.0.0,>=3.8.3->langchain_community) (24.2.0)\n",
      "Requirement already satisfied: frozenlist>=1.1.1 in /usr/local/lib/python3.10/site-packages (from aiohttp<4.0.0,>=3.8.3->langchain_community) (1.4.1)\n",
      "Requirement already satisfied: async-timeout<5.0,>=4.0 in /usr/local/lib/python3.10/site-packages (from aiohttp<4.0.0,>=3.8.3->langchain_community) (4.0.3)\n",
      "Requirement already satisfied: aiosignal>=1.1.2 in /usr/local/lib/python3.10/site-packages (from aiohttp<4.0.0,>=3.8.3->langchain_community) (1.3.1)\n",
      "Requirement already satisfied: multidict<7.0,>=4.5 in /usr/local/lib/python3.10/site-packages (from aiohttp<4.0.0,>=3.8.3->langchain_community) (6.1.0)\n",
      "Requirement already satisfied: aiohappyeyeballs>=2.3.0 in /usr/local/lib/python3.10/site-packages (from aiohttp<4.0.0,>=3.8.3->langchain_community) (2.4.0)\n",
      "Requirement already satisfied: yarl<2.0,>=1.0 in /usr/local/lib/python3.10/site-packages (from aiohttp<4.0.0,>=3.8.3->langchain_community) (1.11.1)\n",
      "Requirement already satisfied: typing-inspect<1,>=0.4.0 in /usr/local/lib/python3.10/site-packages (from dataclasses-json<0.7,>=0.5.7->langchain_community) (0.9.0)\n",
      "Requirement already satisfied: marshmallow<4.0.0,>=3.18.0 in /usr/local/lib/python3.10/site-packages (from dataclasses-json<0.7,>=0.5.7->langchain_community) (3.22.0)\n",
      "Requirement already satisfied: langchain-text-splitters<0.3.0,>=0.2.0 in /usr/local/lib/python3.10/site-packages (from langchain<0.3.0,>=0.2.13->langchain_community) (0.2.2)\n",
      "Requirement already satisfied: pydantic<3,>=1 in /usr/local/lib/python3.10/site-packages (from langchain<0.3.0,>=0.2.13->langchain_community) (2.9.1)\n",
      "Requirement already satisfied: jsonpatch<2.0,>=1.33 in /usr/local/lib/python3.10/site-packages (from langchain-core<0.3.0,>=0.2.30->langchain_community) (1.33)\n",
      "Requirement already satisfied: packaging<25,>=23.2 in /usr/local/lib/python3.10/site-packages (from langchain-core<0.3.0,>=0.2.30->langchain_community) (24.1)\n",
      "Requirement already satisfied: typing-extensions>=4.7 in /usr/local/lib/python3.10/site-packages (from langchain-core<0.3.0,>=0.2.30->langchain_community) (4.12.2)\n",
      "Requirement already satisfied: orjson<4.0.0,>=3.9.14 in /usr/local/lib/python3.10/site-packages (from langsmith<0.2.0,>=0.1.0->langchain_community) (3.10.7)\n",
      "Requirement already satisfied: httpx<1,>=0.23.0 in /usr/local/lib/python3.10/site-packages (from langsmith<0.2.0,>=0.1.0->langchain_community) (0.27.2)\n",
      "Requirement already satisfied: charset-normalizer<4,>=2 in /usr/local/lib/python3.10/site-packages (from requests<3,>=2->langchain_community) (3.3.2)\n",
      "Requirement already satisfied: certifi>=2017.4.17 in /usr/local/lib/python3.10/site-packages (from requests<3,>=2->langchain_community) (2024.8.30)\n",
      "Requirement already satisfied: urllib3<3,>=1.21.1 in /usr/local/lib/python3.10/site-packages (from requests<3,>=2->langchain_community) (2.2.2)\n",
      "Requirement already satisfied: idna<4,>=2.5 in /usr/local/lib/python3.10/site-packages (from requests<3,>=2->langchain_community) (3.8)\n",
      "Requirement already satisfied: greenlet!=0.4.17 in /usr/local/lib/python3.10/site-packages (from SQLAlchemy<3,>=1.4->langchain_community) (3.0.3)\n",
      "Requirement already satisfied: sniffio in /usr/local/lib/python3.10/site-packages (from httpx<1,>=0.23.0->langsmith<0.2.0,>=0.1.0->langchain_community) (1.3.1)\n",
      "Requirement already satisfied: anyio in /usr/local/lib/python3.10/site-packages (from httpx<1,>=0.23.0->langsmith<0.2.0,>=0.1.0->langchain_community) (4.4.0)\n",
      "Requirement already satisfied: httpcore==1.* in /usr/local/lib/python3.10/site-packages (from httpx<1,>=0.23.0->langsmith<0.2.0,>=0.1.0->langchain_community) (1.0.5)\n",
      "Requirement already satisfied: h11<0.15,>=0.13 in /usr/local/lib/python3.10/site-packages (from httpcore==1.*->httpx<1,>=0.23.0->langsmith<0.2.0,>=0.1.0->langchain_community) (0.14.0)\n",
      "Requirement already satisfied: jsonpointer>=1.9 in /usr/local/lib/python3.10/site-packages (from jsonpatch<2.0,>=1.33->langchain-core<0.3.0,>=0.2.30->langchain_community) (3.0.0)\n",
      "Requirement already satisfied: pydantic-core==2.23.3 in /usr/local/lib/python3.10/site-packages (from pydantic<3,>=1->langchain<0.3.0,>=0.2.13->langchain_community) (2.23.3)\n",
      "Requirement already satisfied: annotated-types>=0.6.0 in /usr/local/lib/python3.10/site-packages (from pydantic<3,>=1->langchain<0.3.0,>=0.2.13->langchain_community) (0.7.0)\n",
      "Requirement already satisfied: mypy-extensions>=0.3.0 in /usr/local/lib/python3.10/site-packages (from typing-inspect<1,>=0.4.0->dataclasses-json<0.7,>=0.5.7->langchain_community) (1.0.0)\n",
      "Requirement already satisfied: exceptiongroup>=1.0.2 in /usr/local/lib/python3.10/site-packages (from anyio->httpx<1,>=0.23.0->langsmith<0.2.0,>=0.1.0->langchain_community) (1.2.2)\n",
      "\u001b[33mWARNING: Running pip as the 'root' user can result in broken permissions and conflicting behaviour with the system package manager. It is recommended to use a virtual environment instead: https://pip.pypa.io/warnings/venv\u001b[0m\u001b[33m\n",
      "\u001b[0m\n",
      "\u001b[1m[\u001b[0m\u001b[34;49mnotice\u001b[0m\u001b[1;39;49m]\u001b[0m\u001b[39;49m A new release of pip is available: \u001b[0m\u001b[31;49m23.0.1\u001b[0m\u001b[39;49m -> \u001b[0m\u001b[32;49m25.1.1\u001b[0m\n",
      "\u001b[1m[\u001b[0m\u001b[34;49mnotice\u001b[0m\u001b[1;39;49m]\u001b[0m\u001b[39;49m To update, run: \u001b[0m\u001b[32;49mpip install --upgrade pip\u001b[0m\n"
     ]
    }
   ],
   "source": [
    "!pip install langchain_community"
   ]
  },
  {
   "cell_type": "code",
   "execution_count": 77,
   "id": "ff3a7b95",
   "metadata": {},
   "outputs": [],
   "source": [
    "from langchain_core.chat_history import (\n",
    "    BaseChatMessageHistory,\n",
    "    InMemoryChatMessageHistory,\n",
    ")\n",
    "from langchain_core.runnables.history import RunnableWithMessageHistory\n",
    "\n",
    "# 会話履歴置き場\n",
    "store = {}\n",
    "\n",
    "# セッションIDを指定して履歴を取得\n",
    "def get_session_history(session_id: str) -> BaseChatMessageHistory:\n",
    "    if session_id not in store:\n",
    "        store[session_id] = InMemoryChatMessageHistory()\n",
    "    return store[session_id]\n",
    "\n",
    "# 履歴を取得するためのRunnableWithMessageHistoryを作成\n",
    "with_message_history = RunnableWithMessageHistory(model,get_session_history)"
   ]
  },
  {
   "cell_type": "code",
   "execution_count": 78,
   "id": "fc01e03c",
   "metadata": {},
   "outputs": [],
   "source": [
    "# session_idのconfigを作成\n",
    "# sessin_idは新しい会話を開始するたびに変更したりすると、会話ごとの履歴を保持することが出来る。\n",
    "config = {\"configurable\": {\"session_id\": \"session1\"}}"
   ]
  },
  {
   "cell_type": "code",
   "execution_count": 80,
   "id": "9bcdca12",
   "metadata": {},
   "outputs": [
    {
     "data": {
      "text/plain": [
       "'こんにちわ、もものきさん！😊  \\nお声がけありがとうございます。今日はどんなことについてお話ししたいですか？'"
      ]
     },
     "execution_count": 80,
     "metadata": {},
     "output_type": "execute_result"
    }
   ],
   "source": [
    "# message_hisotryを使って、一つ目の質問を投げてみる\n",
    "response = with_message_history.invoke(\n",
    "    [HumanMessage(content=\"こんにちわ、もものきです\")],\n",
    "    config=config,\n",
    ")\n",
    "response.content"
   ]
  },
  {
   "cell_type": "code",
   "execution_count": 81,
   "id": "32da2e64",
   "metadata": {},
   "outputs": [
    {
     "data": {
      "text/plain": [
       "'もちろんです！😊 あなたの名前は「もものき」さんですね。お話しするたびにちゃんと覚えていますよ！ また何か気になることがあれば遠慮なく教えてくださいね。'"
      ]
     },
     "execution_count": 81,
     "metadata": {},
     "output_type": "execute_result"
    }
   ],
   "source": [
    "# message_historyをつかって２つ目の質問を投げてみる\n",
    "response = with_message_history.invoke(\n",
    "    [HumanMessage(content=\"私の名前を覚えていますか？\")],\n",
    "    config=config,\n",
    ")\n",
    "response.content"
   ]
  },
  {
   "cell_type": "markdown",
   "id": "5adf6612",
   "metadata": {},
   "source": [
    "#### 5-3. 会話履歴その2 ConversationBufferMemoryなど\n",
    "以前の方法"
   ]
  },
  {
   "cell_type": "code",
   "execution_count": 89,
   "id": "e5e42dfe",
   "metadata": {},
   "outputs": [
    {
     "name": "stderr",
     "output_type": "stream",
     "text": [
      "/usr/local/lib/python3.10/site-packages/langchain_core/_api/deprecation.py:141: LangChainDeprecationWarning: The class `ConversationChain` was deprecated in LangChain 0.2.7 and will be removed in 1.0. Use RunnableWithMessageHistory: https://api.python.langchain.com/en/latest/runnables/langchain_core.runnables.history.RunnableWithMessageHistory.html instead.\n",
      "  warn_deprecated(\n"
     ]
    }
   ],
   "source": [
    "from langchain.memory import ConversationBufferMemory   \n",
    "from langchain.chains import ConversationChain\n",
    "chain = ConversationChain(\n",
    "    llm=model,\n",
    "    memory=ConversationBufferMemory()\n",
    "    )"
   ]
  },
  {
   "cell_type": "code",
   "execution_count": 90,
   "id": "3d7ae580",
   "metadata": {},
   "outputs": [
    {
     "name": "stderr",
     "output_type": "stream",
     "text": [
      "/usr/local/lib/python3.10/site-packages/langchain_core/_api/deprecation.py:141: LangChainDeprecationWarning: The method `Chain.run` was deprecated in langchain 0.1.0 and will be removed in 1.0. Use invoke instead.\n",
      "  warn_deprecated(\n"
     ]
    },
    {
     "data": {
      "text/plain": [
       "'こんにちは、もものきさん！お元気ですか？今日はどんなことをお話ししましょうか？日本語でおしゃべりするのは楽しいですね！気になっていることや好きなことについて教えていただければ嬉しいです。 😊'"
      ]
     },
     "execution_count": 90,
     "metadata": {},
     "output_type": "execute_result"
    }
   ],
   "source": [
    "chain.run([HumanMessage(content=\"こんにちわ、もものきです\")])"
   ]
  },
  {
   "cell_type": "code",
   "execution_count": 91,
   "id": "afb83b12",
   "metadata": {},
   "outputs": [
    {
     "data": {
      "text/plain": [
       "'もちろん覚えていますよ！あなたの名前は「もものき」さんですね！素敵なお名前ですね。 😊 他に何かお話したいことや質問はありますか？'"
      ]
     },
     "execution_count": 91,
     "metadata": {},
     "output_type": "execute_result"
    }
   ],
   "source": [
    "chain.run([HumanMessage(content=\"私の名前を覚えていますか\")])"
   ]
  },
  {
   "cell_type": "markdown",
   "id": "19a1466c",
   "metadata": {},
   "source": [
    "#### 5-4. 会話履歴その3 スクラッチ\n",
    "langchainは便利な機能がある一方、後ろで何をしているかわかりにくい場合もあります。  \n",
    "また、更新が多いライブラリであり、方法が変わっていきます。  \n",
    "次のコードでメッセージ履歴のイメージを把握しましょう！"
   ]
  },
  {
   "cell_type": "code",
   "execution_count": 92,
   "id": "8ec563d6",
   "metadata": {},
   "outputs": [],
   "source": [
    "# 会話履歴\n",
    "messages = []"
   ]
  },
  {
   "cell_type": "code",
   "execution_count": 95,
   "id": "0e8e26ad",
   "metadata": {},
   "outputs": [
    {
     "data": {
      "text/plain": [
       "AIMessage(content='こんにちわ、もものきさん！😊  \\nお元気ですか？今日はどんなことがお話ししたいですか？何かお手伝いできることがあれば教えてくださいね！', response_metadata={'token_usage': {'completion_tokens': 47, 'prompt_tokens': 15, 'total_tokens': 62, 'completion_tokens_details': {'accepted_prediction_tokens': 0, 'audio_tokens': 0, 'reasoning_tokens': 0, 'rejected_prediction_tokens': 0}, 'prompt_tokens_details': {'audio_tokens': 0, 'cached_tokens': 0}}, 'model_name': 'gpt-4o-2024-11-20', 'system_fingerprint': 'fp_ee1d74bde0', 'prompt_filter_results': [{'prompt_index': 0, 'content_filter_results': {'hate': {'filtered': False, 'severity': 'safe'}, 'jailbreak': {'detected': False, 'filtered': False}, 'self_harm': {'filtered': False, 'severity': 'safe'}, 'sexual': {'filtered': False, 'severity': 'safe'}, 'violence': {'filtered': False, 'severity': 'safe'}}}], 'finish_reason': 'stop', 'logprobs': None, 'content_filter_results': {'hate': {'filtered': False, 'severity': 'safe'}, 'protected_material_code': {'detected': False, 'filtered': False}, 'protected_material_text': {'detected': False, 'filtered': False}, 'self_harm': {'filtered': False, 'severity': 'safe'}, 'sexual': {'filtered': False, 'severity': 'safe'}, 'violence': {'filtered': False, 'severity': 'safe'}}}, id='run-8008a3ca-418e-46fc-9fe2-cd0d682f8a02-0', usage_metadata={'input_tokens': 15, 'output_tokens': 47, 'total_tokens': 62})"
      ]
     },
     "execution_count": 95,
     "metadata": {},
     "output_type": "execute_result"
    }
   ],
   "source": [
    "messages.append(HumanMessage(content=\"こんにちわ、もものきです\"))\n",
    "response = model.invoke(messages)\n",
    "messages.append(AIMessage(content=response.content))\n",
    "response"
   ]
  },
  {
   "cell_type": "code",
   "execution_count": 98,
   "id": "4e9e3fcc",
   "metadata": {},
   "outputs": [
    {
     "data": {
      "text/plain": [
       "AIMessage(content='もちろんです！もものきさんですよね 😊  \\n以前お話ししたことも忘れませんよ！また何かお話ししたいことがあれば、ぜひ教えてくださいね。', response_metadata={'token_usage': {'completion_tokens': 43, 'prompt_tokens': 91, 'total_tokens': 134, 'completion_tokens_details': {'accepted_prediction_tokens': 0, 'audio_tokens': 0, 'reasoning_tokens': 0, 'rejected_prediction_tokens': 0}, 'prompt_tokens_details': {'audio_tokens': 0, 'cached_tokens': 0}}, 'model_name': 'gpt-4o-2024-11-20', 'system_fingerprint': 'fp_ee1d74bde0', 'prompt_filter_results': [{'prompt_index': 0, 'content_filter_results': {'hate': {'filtered': False, 'severity': 'safe'}, 'jailbreak': {'detected': False, 'filtered': False}, 'self_harm': {'filtered': False, 'severity': 'safe'}, 'sexual': {'filtered': False, 'severity': 'safe'}, 'violence': {'filtered': False, 'severity': 'safe'}}}], 'finish_reason': 'stop', 'logprobs': None, 'content_filter_results': {'hate': {'filtered': False, 'severity': 'safe'}, 'protected_material_code': {'detected': False, 'filtered': False}, 'protected_material_text': {'detected': False, 'filtered': False}, 'self_harm': {'filtered': False, 'severity': 'safe'}, 'sexual': {'filtered': False, 'severity': 'safe'}, 'violence': {'filtered': False, 'severity': 'safe'}}}, id='run-c0568d31-a2bd-4c40-b804-016890be327d-0', usage_metadata={'input_tokens': 91, 'output_tokens': 43, 'total_tokens': 134})"
      ]
     },
     "execution_count": 98,
     "metadata": {},
     "output_type": "execute_result"
    }
   ],
   "source": [
    "messages.append(HumanMessage(content=\"私の名前を覚えていますか？\"))\n",
    "response = model.invoke(messages)\n",
    "messages.append(AIMessage(content=response.content))\n",
    "response"
   ]
  },
  {
   "cell_type": "code",
   "execution_count": 99,
   "id": "9aca0144",
   "metadata": {},
   "outputs": [
    {
     "data": {
      "text/plain": [
       "[HumanMessage(content='こんにちわ、もものきです'),\n",
       " AIMessage(content='こんにちわ、もものきさん！😊  \\nお元気ですか？今日はどんなことがお話ししたいですか？何かお手伝いできることがあれば教えてくださいね！'),\n",
       " HumanMessage(content='私の名前を覚えていますか？'),\n",
       " HumanMessage(content='私の名前を覚えていますか？'),\n",
       " AIMessage(content='もちろんです！もものきさんですよね 😊  \\n以前お話ししたことも忘れませんよ！また何かお話ししたいことがあれば、ぜひ教えてくださいね。')]"
      ]
     },
     "execution_count": 99,
     "metadata": {},
     "output_type": "execute_result"
    }
   ],
   "source": [
    "messages"
   ]
  },
  {
   "cell_type": "markdown",
   "id": "e50ffd62",
   "metadata": {},
   "source": [
    "#### 5-5. 会話履歴管理\n",
    "  \n",
    "会話を続けると、履歴が長くなり、modelに入れるトークン数を超えたり、トークン数によって費用が決まるため、費用がかさむ場合があります。  \n",
    "  \n",
    "そのため、会話履歴は管理する必要があります。  \n",
    "  \n",
    "5-3. 会話履歴その2で紹介したMemoryには、ConversationSummaryMemory, ConversationBufferWindowMemoryなどで会話履歴のトークン数を調整する方法があります。  \n",
    "  \n",
    "\n",
    "直近のドキュメントでは、trim_messagesなどがありますが、シンプルに配列で調整してもよい"
   ]
  },
  {
   "cell_type": "code",
   "execution_count": 103,
   "id": "1cba00cb",
   "metadata": {},
   "outputs": [
    {
     "data": {
      "text/plain": [
       "[SystemMessage(content='you are good assistant'),\n",
       " HumanMessage(content='hi! I am bob'),\n",
       " AIMessage(content='hi'),\n",
       " HumanMessage(content='I like vanilla ice cream'),\n",
       " AIMessage(content='nice'),\n",
       " HumanMessage(content='whats 2+2?'),\n",
       " AIMessage(content='4'),\n",
       " HumanMessage(content='thanks'),\n",
       " AIMessage(content='no problem'),\n",
       " HumanMessage(content='having fun?')]"
      ]
     },
     "execution_count": 103,
     "metadata": {},
     "output_type": "execute_result"
    }
   ],
   "source": [
    "messages = [\n",
    "    SystemMessage(content=\"you are good assistant\"),\n",
    "    HumanMessage(content=\"hi! I am bob\"),\n",
    "    AIMessage(content=\"hi\"),\n",
    "    HumanMessage(content=\"I like vanilla ice cream\"),\n",
    "    AIMessage(content=\"nice\"),\n",
    "    HumanMessage(content=\"whats 2+2?\"),\n",
    "    AIMessage(content=\"4\"),\n",
    "    HumanMessage(content=\"thanks\"),\n",
    "    AIMessage(content=\"no problem\"),\n",
    "    HumanMessage(content=\"having fun?\"),\n",
    "\n",
    "]\n",
    "messages"
   ]
  },
  {
   "cell_type": "code",
   "execution_count": 104,
   "id": "9e3a2b6e",
   "metadata": {},
   "outputs": [
    {
     "data": {
      "text/plain": [
       "[SystemMessage(content='you are good assistant'),\n",
       " HumanMessage(content='thanks'),\n",
       " AIMessage(content='no problem'),\n",
       " HumanMessage(content='having fun?')]"
      ]
     },
     "execution_count": 104,
     "metadata": {},
     "output_type": "execute_result"
    }
   ],
   "source": [
    "new_messages = [\n",
    "    messages[0], # SystemMessage\n",
    "    messages[-3], # HumanMessage\n",
    "    messages[-2], # AIMessage\n",
    "    messages[-1]  # HumanMessage\n",
    "]\n",
    "new_messages"
   ]
  },
  {
   "cell_type": "code",
   "execution_count": 106,
   "id": "ea53379d",
   "metadata": {},
   "outputs": [
    {
     "data": {
      "text/plain": [
       "[SystemMessage(content='you are good assistant'),\n",
       " HumanMessage(content='thanks'),\n",
       " AIMessage(content='no problem'),\n",
       " HumanMessage(content='having fun?')]"
      ]
     },
     "execution_count": 106,
     "metadata": {},
     "output_type": "execute_result"
    }
   ],
   "source": [
    "k = 3\n",
    "new_message = [messages[0]]\n",
    "new_message.extend(messages[-k:])\n",
    "new_message"
   ]
  },
  {
   "cell_type": "code",
   "execution_count": 107,
   "id": "260f83a4",
   "metadata": {},
   "outputs": [
    {
     "data": {
      "text/plain": [
       "AIMessage(content=\"Always! I'm here to help and chat with you—whether it's answering questions, solving problems, or just having a friendly conversation. Are you having fun? 😊\", response_metadata={'token_usage': {'completion_tokens': 33, 'prompt_tokens': 29, 'total_tokens': 62, 'completion_tokens_details': {'accepted_prediction_tokens': 0, 'audio_tokens': 0, 'reasoning_tokens': 0, 'rejected_prediction_tokens': 0}, 'prompt_tokens_details': {'audio_tokens': 0, 'cached_tokens': 0}}, 'model_name': 'gpt-4o-2024-11-20', 'system_fingerprint': 'fp_ee1d74bde0', 'prompt_filter_results': [{'prompt_index': 0, 'content_filter_results': {'hate': {'filtered': False, 'severity': 'safe'}, 'jailbreak': {'detected': False, 'filtered': False}, 'self_harm': {'filtered': False, 'severity': 'safe'}, 'sexual': {'filtered': False, 'severity': 'safe'}, 'violence': {'filtered': False, 'severity': 'safe'}}}], 'finish_reason': 'stop', 'logprobs': None, 'content_filter_results': {'hate': {'filtered': False, 'severity': 'safe'}, 'protected_material_code': {'detected': False, 'filtered': False}, 'protected_material_text': {'detected': False, 'filtered': False}, 'self_harm': {'filtered': False, 'severity': 'safe'}, 'sexual': {'filtered': False, 'severity': 'safe'}, 'violence': {'filtered': False, 'severity': 'safe'}}}, id='run-9e1a86d3-3b6e-427d-9c0f-2a1fea9118e0-0', usage_metadata={'input_tokens': 29, 'output_tokens': 33, 'total_tokens': 62})"
      ]
     },
     "execution_count": 107,
     "metadata": {},
     "output_type": "execute_result"
    }
   ],
   "source": [
    "response = model.invoke(new_message)\n",
    "response"
   ]
  },
  {
   "cell_type": "code",
   "execution_count": null,
   "id": "c4626c30",
   "metadata": {},
   "outputs": [],
   "source": []
  }
 ],
 "metadata": {
  "kernelspec": {
   "display_name": "Python 3",
   "language": "python",
   "name": "python3"
  },
  "language_info": {
   "codemirror_mode": {
    "name": "ipython",
    "version": 3
   },
   "file_extension": ".py",
   "mimetype": "text/x-python",
   "name": "python",
   "nbconvert_exporter": "python",
   "pygments_lexer": "ipython3",
   "version": "3.10.17"
  }
 },
 "nbformat": 4,
 "nbformat_minor": 5
}
