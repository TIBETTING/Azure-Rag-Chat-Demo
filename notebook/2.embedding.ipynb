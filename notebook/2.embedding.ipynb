{
 "cells": [
  {
   "cell_type": "markdown",
   "id": "44fc8211",
   "metadata": {},
   "source": [
    "## エンベディング\n",
    "1. 数値への変換の仕方\n",
    "2. 数値の表現"
   ]
  },
  {
   "cell_type": "code",
   "execution_count": 2,
   "id": "98c83561",
   "metadata": {},
   "outputs": [
    {
     "data": {
      "text/plain": [
       "True"
      ]
     },
     "execution_count": 2,
     "metadata": {},
     "output_type": "execute_result"
    }
   ],
   "source": [
    "import os\n",
    "from langchain_openai import (\n",
    "    AzureOpenAIEmbeddings,\n",
    "    OpenAIEmbeddings,\n",
    ")\n",
    "\n",
    "from dotenv import load_dotenv\n",
    "load_dotenv('../.env')"
   ]
  },
  {
   "cell_type": "markdown",
   "id": "600f0e23",
   "metadata": {},
   "source": [
    "### 1.数値への変換の仕方\n",
    " - <a href=\"https://api.python.langchain.com/en/latest/embeddings/langchain_openai.embeddings.azure.AzureOpenAIEmbeddings.html\" target=_blank>ドキュメント1</a>\n",
    " - <a href=\"https://python.langchain.com/v0.2/docs/integrations/text_embedding/azureopenai/\" target=_blank>ドキュメント2</a>"
   ]
  },
  {
   "cell_type": "code",
   "execution_count": 3,
   "id": "5c24acd5",
   "metadata": {},
   "outputs": [],
   "source": [
    "## モデルの取得\n",
    "# 3. OpenAIのembeddingモデル取得\n",
    "embeddings = None\n",
    "if os.getenv('AZURE_OPENAI_API_KEY') != \"\":\n",
    "    # Azureの場合\n",
    "    embeddings = AzureOpenAIEmbeddings(\n",
    "        azure_deployment=\"text-embedding-3-small\", # Azureのデプロイメント名\n",
    "        openai_api_version=\"2023-05-15\", # OpenAIのAPIバージョン\n",
    " #       azure_endpoint='https://your-azure-openai-endpoint.openai.azure.com/',\n",
    "    )\n",
    "elif os.getenv('OPENAI_API_KEY') != \"\":\n",
    "    # OpenAIの場合\n",
    "    embeddings = OpenAIEmbeddings(model=\"text-embedding-ada-002\")\n",
    "else:\n",
    "    print(\"APIKeyの設定を確認してください\")"
   ]
  },
  {
   "cell_type": "markdown",
   "id": "662a7721",
   "metadata": {},
   "source": [
    "#### 1-2.数値取得"
   ]
  },
  {
   "cell_type": "code",
   "execution_count": 4,
   "id": "67e87102",
   "metadata": {},
   "outputs": [],
   "source": [
    "text = \"これはテスト用のドキュメントです。\""
   ]
  },
  {
   "cell_type": "code",
   "execution_count": 5,
   "id": "57db62e7",
   "metadata": {},
   "outputs": [
    {
     "name": "stdout",
     "output_type": "stream",
     "text": [
      "サイズ:1536\n",
      "5のみ確認\n",
      "[0.006708289030939341, 0.06086710840463638, -0.008633030578494072, -0.04146118834614754, 0.026652004569768906]\n"
     ]
    }
   ],
   "source": [
    "# ひとつベクトル化し、ベクトルの次元を確認する\n",
    "query_result = embeddings.embed_query(text)\n",
    "print(f\"サイズ:{len(query_result)}\")\n",
    "print(f\"5のみ確認\")\n",
    "print(query_result[:5])"
   ]
  },
  {
   "cell_type": "code",
   "execution_count": 6,
   "id": "66d6c234",
   "metadata": {},
   "outputs": [
    {
     "name": "stdout",
     "output_type": "stream",
     "text": [
      "サイズ:1536\n",
      "5のみ確認\n",
      "[0.006708289030939341, 0.06086710840463638, -0.008633030578494072, -0.04146118834614754, 0.026652004569768906]\n"
     ]
    }
   ],
   "source": [
    "# 配列で処理\n",
    "doc_result = embeddings.embed_documents([text])\n",
    "print(f\"サイズ:{len(doc_result[0])}\")\n",
    "print(f\"5のみ確認\")\n",
    "print(doc_result[0][:5])"
   ]
  },
  {
   "cell_type": "markdown",
   "id": "f12b8455",
   "metadata": {},
   "source": [
    "### 2. 数値の表現"
   ]
  },
  {
   "cell_type": "code",
   "execution_count": 25,
   "id": "9555c974",
   "metadata": {},
   "outputs": [],
   "source": [
    "perplexity = 2\n",
    "tSNE_text_font_size = 10\n",
    "import numpy as np\n",
    "from sklearn.manifold import TSNE\n",
    "import plotly.graph_objs as go\n",
    "import plotly.express as px\n",
    "import os\n",
    "import pandas as pd"
   ]
  },
  {
   "cell_type": "code",
   "execution_count": 26,
   "id": "a03aafcd",
   "metadata": {},
   "outputs": [
    {
     "data": {
      "text/plain": [
       "(13, 1536)"
      ]
     },
     "execution_count": 26,
     "metadata": {},
     "output_type": "execute_result"
    }
   ],
   "source": [
    "texts = [\n",
    "    \"カレーたべたい\",\n",
    "    \"カツカレー食べたい\",\n",
    "    \"うどん食べたい\",\n",
    "    \"カレーを作る\",\n",
    "    \"パエリアーを作る\",\n",
    "    \"明日の天気は\",\n",
    "    \"雨だから傘を持っていく\",\n",
    "    \"晴れたらプールいく\",\n",
    "    \"雨なので家で遊ぶ\",\n",
    "    \"プログラムを勉強する\",\n",
    "    \"Pythonを勉強する\",\n",
    "    \"AIを使ったのアプリ開発\",\n",
    "    \"PythonでAIを実装\",\n",
    "]\n",
    "doc_result = embeddings.embed_documents(texts)\n",
    "doc_result = np.array(doc_result)\n",
    "doc_result.shape\n"
   ]
  },
  {
   "cell_type": "code",
   "execution_count": 27,
   "id": "663e6e7a",
   "metadata": {},
   "outputs": [],
   "source": [
    "# 実行\n",
    "tsne = TSNE(n_components=2, perplexity=perplexity, random_state=0)\n",
    "np.set_printoptions(suppress=True)\n",
    "value2 = tsne.fit_transform(doc_result)"
   ]
  },
  {
   "cell_type": "code",
   "execution_count": 28,
   "id": "b5e6f048",
   "metadata": {},
   "outputs": [],
   "source": [
    "# 可視化\n",
    "fig2 = go.Figure()\n",
    "for value, word in zip(value2, texts):\n",
    "    fig2.add_trace(\n",
    "        go.Scatter(\n",
    "            x = pd.Series(value[0]),\n",
    "            y = pd.Series(value[1]),\n",
    "            mode = 'markers+text',\n",
    "            text= word,\n",
    "            textposition= 'top center',\n",
    "        )\n",
    "    )"
   ]
  },
  {
   "cell_type": "code",
   "execution_count": 29,
   "id": "790203c6",
   "metadata": {},
   "outputs": [
    {
     "data": {
      "application/vnd.plotly.v1+json": {
       "config": {
        "plotlyServerURL": "https://plot.ly"
       },
       "data": [
        {
         "mode": "markers+text",
         "text": "カレーたべたい",
         "textposition": "top center",
         "type": "scatter",
         "x": {
          "bdata": "59YdQg==",
          "dtype": "f4"
         },
         "y": {
          "bdata": "ITtbwQ==",
          "dtype": "f4"
         }
        },
        {
         "mode": "markers+text",
         "text": "カツカレー食べたい",
         "textposition": "top center",
         "type": "scatter",
         "x": {
          "bdata": "kyEoQg==",
          "dtype": "f4"
         },
         "y": {
          "bdata": "g1aswA==",
          "dtype": "f4"
         }
        },
        {
         "mode": "markers+text",
         "text": "うどん食べたい",
         "textposition": "top center",
         "type": "scatter",
         "x": {
          "bdata": "8qpWQg==",
          "dtype": "f4"
         },
         "y": {
          "bdata": "Vq3iwA==",
          "dtype": "f4"
         }
        },
        {
         "mode": "markers+text",
         "text": "カレーを作る",
         "textposition": "top center",
         "type": "scatter",
         "x": {
          "bdata": "fpMFQg==",
          "dtype": "f4"
         },
         "y": {
          "bdata": "7O+fwQ==",
          "dtype": "f4"
         }
        },
        {
         "mode": "markers+text",
         "text": "パエリアーを作る",
         "textposition": "top center",
         "type": "scatter",
         "x": {
          "bdata": "qwjGQQ==",
          "dtype": "f4"
         },
         "y": {
          "bdata": "oXjrwQ==",
          "dtype": "f4"
         }
        },
        {
         "mode": "markers+text",
         "text": "明日の天気は",
         "textposition": "top center",
         "type": "scatter",
         "x": {
          "bdata": "jM+Kwg==",
          "dtype": "f4"
         },
         "y": {
          "bdata": "exqkQg==",
          "dtype": "f4"
         }
        },
        {
         "mode": "markers+text",
         "text": "雨だから傘を持っていく",
         "textposition": "top center",
         "type": "scatter",
         "x": {
          "bdata": "rTRmwg==",
          "dtype": "f4"
         },
         "y": {
          "bdata": "e8XVQg==",
          "dtype": "f4"
         }
        },
        {
         "mode": "markers+text",
         "text": "晴れたらプールいく",
         "textposition": "top center",
         "type": "scatter",
         "x": {
          "bdata": "52SBwg==",
          "dtype": "f4"
         },
         "y": {
          "bdata": "oVK2Qg==",
          "dtype": "f4"
         }
        },
        {
         "mode": "markers+text",
         "text": "雨なので家で遊ぶ",
         "textposition": "top center",
         "type": "scatter",
         "x": {
          "bdata": "V+twwg==",
          "dtype": "f4"
         },
         "y": {
          "bdata": "MhrIQg==",
          "dtype": "f4"
         }
        },
        {
         "mode": "markers+text",
         "text": "プログラムを勉強する",
         "textposition": "top center",
         "type": "scatter",
         "x": {
          "bdata": "KtchQA==",
          "dtype": "f4"
         },
         "y": {
          "bdata": "DLRTwg==",
          "dtype": "f4"
         }
        },
        {
         "mode": "markers+text",
         "text": "Pythonを勉強する",
         "textposition": "top center",
         "type": "scatter",
         "x": {
          "bdata": "uekowA==",
          "dtype": "f4"
         },
         "y": {
          "bdata": "LYtswg==",
          "dtype": "f4"
         }
        },
        {
         "mode": "markers+text",
         "text": "AIを使ったのアプリ開発",
         "textposition": "top center",
         "type": "scatter",
         "x": {
          "bdata": "VCN+wQ==",
          "dtype": "f4"
         },
         "y": {
          "bdata": "YACXwg==",
          "dtype": "f4"
         }
        },
        {
         "mode": "markers+text",
         "text": "PythonでAIを実装",
         "textposition": "top center",
         "type": "scatter",
         "x": {
          "bdata": "QuYxwQ==",
          "dtype": "f4"
         },
         "y": {
          "bdata": "xSeLwg==",
          "dtype": "f4"
         }
        }
       ],
       "layout": {
        "font": {
         "size": 10
        },
        "height": 650,
        "showlegend": false,
        "template": {
         "data": {
          "bar": [
           {
            "error_x": {
             "color": "#2a3f5f"
            },
            "error_y": {
             "color": "#2a3f5f"
            },
            "marker": {
             "line": {
              "color": "#E5ECF6",
              "width": 0.5
             },
             "pattern": {
              "fillmode": "overlay",
              "size": 10,
              "solidity": 0.2
             }
            },
            "type": "bar"
           }
          ],
          "barpolar": [
           {
            "marker": {
             "line": {
              "color": "#E5ECF6",
              "width": 0.5
             },
             "pattern": {
              "fillmode": "overlay",
              "size": 10,
              "solidity": 0.2
             }
            },
            "type": "barpolar"
           }
          ],
          "carpet": [
           {
            "aaxis": {
             "endlinecolor": "#2a3f5f",
             "gridcolor": "white",
             "linecolor": "white",
             "minorgridcolor": "white",
             "startlinecolor": "#2a3f5f"
            },
            "baxis": {
             "endlinecolor": "#2a3f5f",
             "gridcolor": "white",
             "linecolor": "white",
             "minorgridcolor": "white",
             "startlinecolor": "#2a3f5f"
            },
            "type": "carpet"
           }
          ],
          "choropleth": [
           {
            "colorbar": {
             "outlinewidth": 0,
             "ticks": ""
            },
            "type": "choropleth"
           }
          ],
          "contour": [
           {
            "colorbar": {
             "outlinewidth": 0,
             "ticks": ""
            },
            "colorscale": [
             [
              0,
              "#0d0887"
             ],
             [
              0.1111111111111111,
              "#46039f"
             ],
             [
              0.2222222222222222,
              "#7201a8"
             ],
             [
              0.3333333333333333,
              "#9c179e"
             ],
             [
              0.4444444444444444,
              "#bd3786"
             ],
             [
              0.5555555555555556,
              "#d8576b"
             ],
             [
              0.6666666666666666,
              "#ed7953"
             ],
             [
              0.7777777777777778,
              "#fb9f3a"
             ],
             [
              0.8888888888888888,
              "#fdca26"
             ],
             [
              1,
              "#f0f921"
             ]
            ],
            "type": "contour"
           }
          ],
          "contourcarpet": [
           {
            "colorbar": {
             "outlinewidth": 0,
             "ticks": ""
            },
            "type": "contourcarpet"
           }
          ],
          "heatmap": [
           {
            "colorbar": {
             "outlinewidth": 0,
             "ticks": ""
            },
            "colorscale": [
             [
              0,
              "#0d0887"
             ],
             [
              0.1111111111111111,
              "#46039f"
             ],
             [
              0.2222222222222222,
              "#7201a8"
             ],
             [
              0.3333333333333333,
              "#9c179e"
             ],
             [
              0.4444444444444444,
              "#bd3786"
             ],
             [
              0.5555555555555556,
              "#d8576b"
             ],
             [
              0.6666666666666666,
              "#ed7953"
             ],
             [
              0.7777777777777778,
              "#fb9f3a"
             ],
             [
              0.8888888888888888,
              "#fdca26"
             ],
             [
              1,
              "#f0f921"
             ]
            ],
            "type": "heatmap"
           }
          ],
          "histogram": [
           {
            "marker": {
             "pattern": {
              "fillmode": "overlay",
              "size": 10,
              "solidity": 0.2
             }
            },
            "type": "histogram"
           }
          ],
          "histogram2d": [
           {
            "colorbar": {
             "outlinewidth": 0,
             "ticks": ""
            },
            "colorscale": [
             [
              0,
              "#0d0887"
             ],
             [
              0.1111111111111111,
              "#46039f"
             ],
             [
              0.2222222222222222,
              "#7201a8"
             ],
             [
              0.3333333333333333,
              "#9c179e"
             ],
             [
              0.4444444444444444,
              "#bd3786"
             ],
             [
              0.5555555555555556,
              "#d8576b"
             ],
             [
              0.6666666666666666,
              "#ed7953"
             ],
             [
              0.7777777777777778,
              "#fb9f3a"
             ],
             [
              0.8888888888888888,
              "#fdca26"
             ],
             [
              1,
              "#f0f921"
             ]
            ],
            "type": "histogram2d"
           }
          ],
          "histogram2dcontour": [
           {
            "colorbar": {
             "outlinewidth": 0,
             "ticks": ""
            },
            "colorscale": [
             [
              0,
              "#0d0887"
             ],
             [
              0.1111111111111111,
              "#46039f"
             ],
             [
              0.2222222222222222,
              "#7201a8"
             ],
             [
              0.3333333333333333,
              "#9c179e"
             ],
             [
              0.4444444444444444,
              "#bd3786"
             ],
             [
              0.5555555555555556,
              "#d8576b"
             ],
             [
              0.6666666666666666,
              "#ed7953"
             ],
             [
              0.7777777777777778,
              "#fb9f3a"
             ],
             [
              0.8888888888888888,
              "#fdca26"
             ],
             [
              1,
              "#f0f921"
             ]
            ],
            "type": "histogram2dcontour"
           }
          ],
          "mesh3d": [
           {
            "colorbar": {
             "outlinewidth": 0,
             "ticks": ""
            },
            "type": "mesh3d"
           }
          ],
          "parcoords": [
           {
            "line": {
             "colorbar": {
              "outlinewidth": 0,
              "ticks": ""
             }
            },
            "type": "parcoords"
           }
          ],
          "pie": [
           {
            "automargin": true,
            "type": "pie"
           }
          ],
          "scatter": [
           {
            "fillpattern": {
             "fillmode": "overlay",
             "size": 10,
             "solidity": 0.2
            },
            "type": "scatter"
           }
          ],
          "scatter3d": [
           {
            "line": {
             "colorbar": {
              "outlinewidth": 0,
              "ticks": ""
             }
            },
            "marker": {
             "colorbar": {
              "outlinewidth": 0,
              "ticks": ""
             }
            },
            "type": "scatter3d"
           }
          ],
          "scattercarpet": [
           {
            "marker": {
             "colorbar": {
              "outlinewidth": 0,
              "ticks": ""
             }
            },
            "type": "scattercarpet"
           }
          ],
          "scattergeo": [
           {
            "marker": {
             "colorbar": {
              "outlinewidth": 0,
              "ticks": ""
             }
            },
            "type": "scattergeo"
           }
          ],
          "scattergl": [
           {
            "marker": {
             "colorbar": {
              "outlinewidth": 0,
              "ticks": ""
             }
            },
            "type": "scattergl"
           }
          ],
          "scattermap": [
           {
            "marker": {
             "colorbar": {
              "outlinewidth": 0,
              "ticks": ""
             }
            },
            "type": "scattermap"
           }
          ],
          "scattermapbox": [
           {
            "marker": {
             "colorbar": {
              "outlinewidth": 0,
              "ticks": ""
             }
            },
            "type": "scattermapbox"
           }
          ],
          "scatterpolar": [
           {
            "marker": {
             "colorbar": {
              "outlinewidth": 0,
              "ticks": ""
             }
            },
            "type": "scatterpolar"
           }
          ],
          "scatterpolargl": [
           {
            "marker": {
             "colorbar": {
              "outlinewidth": 0,
              "ticks": ""
             }
            },
            "type": "scatterpolargl"
           }
          ],
          "scatterternary": [
           {
            "marker": {
             "colorbar": {
              "outlinewidth": 0,
              "ticks": ""
             }
            },
            "type": "scatterternary"
           }
          ],
          "surface": [
           {
            "colorbar": {
             "outlinewidth": 0,
             "ticks": ""
            },
            "colorscale": [
             [
              0,
              "#0d0887"
             ],
             [
              0.1111111111111111,
              "#46039f"
             ],
             [
              0.2222222222222222,
              "#7201a8"
             ],
             [
              0.3333333333333333,
              "#9c179e"
             ],
             [
              0.4444444444444444,
              "#bd3786"
             ],
             [
              0.5555555555555556,
              "#d8576b"
             ],
             [
              0.6666666666666666,
              "#ed7953"
             ],
             [
              0.7777777777777778,
              "#fb9f3a"
             ],
             [
              0.8888888888888888,
              "#fdca26"
             ],
             [
              1,
              "#f0f921"
             ]
            ],
            "type": "surface"
           }
          ],
          "table": [
           {
            "cells": {
             "fill": {
              "color": "#EBF0F8"
             },
             "line": {
              "color": "white"
             }
            },
            "header": {
             "fill": {
              "color": "#C8D4E3"
             },
             "line": {
              "color": "white"
             }
            },
            "type": "table"
           }
          ]
         },
         "layout": {
          "annotationdefaults": {
           "arrowcolor": "#2a3f5f",
           "arrowhead": 0,
           "arrowwidth": 1
          },
          "autotypenumbers": "strict",
          "coloraxis": {
           "colorbar": {
            "outlinewidth": 0,
            "ticks": ""
           }
          },
          "colorscale": {
           "diverging": [
            [
             0,
             "#8e0152"
            ],
            [
             0.1,
             "#c51b7d"
            ],
            [
             0.2,
             "#de77ae"
            ],
            [
             0.3,
             "#f1b6da"
            ],
            [
             0.4,
             "#fde0ef"
            ],
            [
             0.5,
             "#f7f7f7"
            ],
            [
             0.6,
             "#e6f5d0"
            ],
            [
             0.7,
             "#b8e186"
            ],
            [
             0.8,
             "#7fbc41"
            ],
            [
             0.9,
             "#4d9221"
            ],
            [
             1,
             "#276419"
            ]
           ],
           "sequential": [
            [
             0,
             "#0d0887"
            ],
            [
             0.1111111111111111,
             "#46039f"
            ],
            [
             0.2222222222222222,
             "#7201a8"
            ],
            [
             0.3333333333333333,
             "#9c179e"
            ],
            [
             0.4444444444444444,
             "#bd3786"
            ],
            [
             0.5555555555555556,
             "#d8576b"
            ],
            [
             0.6666666666666666,
             "#ed7953"
            ],
            [
             0.7777777777777778,
             "#fb9f3a"
            ],
            [
             0.8888888888888888,
             "#fdca26"
            ],
            [
             1,
             "#f0f921"
            ]
           ],
           "sequentialminus": [
            [
             0,
             "#0d0887"
            ],
            [
             0.1111111111111111,
             "#46039f"
            ],
            [
             0.2222222222222222,
             "#7201a8"
            ],
            [
             0.3333333333333333,
             "#9c179e"
            ],
            [
             0.4444444444444444,
             "#bd3786"
            ],
            [
             0.5555555555555556,
             "#d8576b"
            ],
            [
             0.6666666666666666,
             "#ed7953"
            ],
            [
             0.7777777777777778,
             "#fb9f3a"
            ],
            [
             0.8888888888888888,
             "#fdca26"
            ],
            [
             1,
             "#f0f921"
            ]
           ]
          },
          "colorway": [
           "#636efa",
           "#EF553B",
           "#00cc96",
           "#ab63fa",
           "#FFA15A",
           "#19d3f3",
           "#FF6692",
           "#B6E880",
           "#FF97FF",
           "#FECB52"
          ],
          "font": {
           "color": "#2a3f5f"
          },
          "geo": {
           "bgcolor": "white",
           "lakecolor": "white",
           "landcolor": "#E5ECF6",
           "showlakes": true,
           "showland": true,
           "subunitcolor": "white"
          },
          "hoverlabel": {
           "align": "left"
          },
          "hovermode": "closest",
          "mapbox": {
           "style": "light"
          },
          "paper_bgcolor": "white",
          "plot_bgcolor": "#E5ECF6",
          "polar": {
           "angularaxis": {
            "gridcolor": "white",
            "linecolor": "white",
            "ticks": ""
           },
           "bgcolor": "#E5ECF6",
           "radialaxis": {
            "gridcolor": "white",
            "linecolor": "white",
            "ticks": ""
           }
          },
          "scene": {
           "xaxis": {
            "backgroundcolor": "#E5ECF6",
            "gridcolor": "white",
            "gridwidth": 2,
            "linecolor": "white",
            "showbackground": true,
            "ticks": "",
            "zerolinecolor": "white"
           },
           "yaxis": {
            "backgroundcolor": "#E5ECF6",
            "gridcolor": "white",
            "gridwidth": 2,
            "linecolor": "white",
            "showbackground": true,
            "ticks": "",
            "zerolinecolor": "white"
           },
           "zaxis": {
            "backgroundcolor": "#E5ECF6",
            "gridcolor": "white",
            "gridwidth": 2,
            "linecolor": "white",
            "showbackground": true,
            "ticks": "",
            "zerolinecolor": "white"
           }
          },
          "shapedefaults": {
           "line": {
            "color": "#2a3f5f"
           }
          },
          "ternary": {
           "aaxis": {
            "gridcolor": "white",
            "linecolor": "white",
            "ticks": ""
           },
           "baxis": {
            "gridcolor": "white",
            "linecolor": "white",
            "ticks": ""
           },
           "bgcolor": "#E5ECF6",
           "caxis": {
            "gridcolor": "white",
            "linecolor": "white",
            "ticks": ""
           }
          },
          "title": {
           "x": 0.05
          },
          "xaxis": {
           "automargin": true,
           "gridcolor": "white",
           "linecolor": "white",
           "ticks": "",
           "title": {
            "standoff": 15
           },
           "zerolinecolor": "white",
           "zerolinewidth": 2
          },
          "yaxis": {
           "automargin": true,
           "gridcolor": "white",
           "linecolor": "white",
           "ticks": "",
           "title": {
            "standoff": 15
           },
           "zerolinecolor": "white",
           "zerolinewidth": 2
          }
         }
        },
        "title": {
         "font": {
          "color": "grey",
          "size": 18
         },
         "text": "embeddingsの可視化",
         "x": 0.5,
         "xanchor": "center",
         "xref": "paper",
         "y": 0.9
        },
        "width": 700
       }
      }
     },
     "metadata": {},
     "output_type": "display_data"
    }
   ],
   "source": [
    "fig2.update_layout(title=dict(text='embeddingsの可視化',\n",
    "                              font=dict(size=18,\n",
    "                                        color='grey'),\n",
    "                              xref='paper', # container or paper\n",
    "                              x=0.5,\n",
    "                              y=0.9,\n",
    "                              xanchor='center'\n",
    "                              ),\n",
    "                    showlegend=False,\n",
    "                    font = dict(size=10),\n",
    "                    width=700,\n",
    "                    height=650)\n",
    "fig2.show()\n"
   ]
  },
  {
   "cell_type": "code",
   "execution_count": null,
   "id": "07159c6e",
   "metadata": {},
   "outputs": [],
   "source": []
  }
 ],
 "metadata": {
  "kernelspec": {
   "display_name": "Python 3",
   "language": "python",
   "name": "python3"
  },
  "language_info": {
   "codemirror_mode": {
    "name": "ipython",
    "version": 3
   },
   "file_extension": ".py",
   "mimetype": "text/x-python",
   "name": "python",
   "nbconvert_exporter": "python",
   "pygments_lexer": "ipython3",
   "version": "3.10.18"
  }
 },
 "nbformat": 4,
 "nbformat_minor": 5
}
